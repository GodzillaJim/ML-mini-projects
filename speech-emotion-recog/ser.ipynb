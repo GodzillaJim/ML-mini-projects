{
 "metadata": {
  "language_info": {
   "codemirror_mode": {
    "name": "ipython",
    "version": 3
   },
   "file_extension": ".py",
   "mimetype": "text/x-python",
   "name": "python",
   "nbconvert_exporter": "python",
   "pygments_lexer": "ipython3",
   "version": "3.9.1"
  },
  "orig_nbformat": 2,
  "kernelspec": {
   "name": "python3",
   "display_name": "Python 3.9.1 64-bit",
   "metadata": {
    "interpreter": {
     "hash": "767d51c1340bd893661ea55ea3124f6de3c7a262a8b4abca0554b478b1e2ff90"
    }
   }
  }
 },
 "nbformat": 4,
 "nbformat_minor": 2,
 "cells": [
  {
   "cell_type": "code",
   "execution_count": 7,
   "metadata": {},
   "outputs": [
    {
     "output_type": "stream",
     "name": "stdout",
     "text": [
      "Features extracted: 180\n"
     ]
    }
   ],
   "source": [
    "import librosa\n",
    "import soundfile\n",
    "import os, glob, pickle\n",
    "import numpy as np\n",
    "from sklearn.model_selection import train_test_split\n",
    "from sklearn.neural_network import MLPClassifier\n",
    "from sklearn.metrics import accuracy_score\n",
    "\n",
    "# Extracting features mfcc, chroma, and mel\n",
    "# FUnction has 4 parameters,\n",
    "# - File name, 3Boolean for the three features.\n",
    "# -mfcc - Mel Frequency Cepstral # Coefficient, short term power spectrum of sound\n",
    "# chroma - THe 12 different pitch classes\n",
    "# mel - Mel Spectrogram Frequency\n",
    "def extract_feature(file_name, mfcc, chroma, mel):\n",
    "    with soundfile.SoundFile(file_name) as sound_file:\n",
    "        x = sound_file.read(dtype='float32')\n",
    "        sample_rate = sound_file.samplerate\n",
    "        if chroma:\n",
    "            stft = np.abs(librosa.stft(x))\n",
    "        result = np.array([])\n",
    "        if mfcc:\n",
    "            mfccs= np.mean(librosa.feature.mfcc(y=x, sr=sample_rate, n_mfcc=40).T, axis=0)\n",
    "            result = np.hstack((result, mfccs))\n",
    "        if chroma:\n",
    "            chroma = np.mean(librosa.feature.chroma_stft(S=stft,sr=sample_rate).T, axis=0)\n",
    "            result = np.hstack((result,chroma))\n",
    "        if mel:\n",
    "            mel = np.mean(librosa.feature.melspectrogram(x,sr=sample_rate).T, axis=0)\n",
    "            result = np.hstack((result, mel))\n",
    "        return result\n",
    "emotions = {\n",
    "    '01': 'neutral', '02':'calm','03':'happy','04':'sad','05':'angry','06':'fearful','07':'disgust','08':'surprised'\n",
    "}\n",
    "\n",
    "observed_emotions = ['calm','happy','fearful','disgust']\n",
    "\n",
    "\n",
    "# Loading data\n",
    "def load_data(test_size=0.2):\n",
    "    x,y = [],[]\n",
    "    for file in glob.glob(\"./data/Actor_*/*.wav\"):\n",
    "        file_name = os.path.basename(file)\n",
    "        emotion = emotions[file_name.split(\"-\")[2]]\n",
    "        if emotion not in observed_emotions:\n",
    "            continue\n",
    "        feature = extract_feature(file, mfcc=True, chroma=True, mel=True)\n",
    "        x.append(feature)\n",
    "        y.append(emotion)\n",
    "    return train_test_split(np.array(x),y,test_size=test_size,random_state=9)\n",
    "\n",
    "# Splitting the data\n",
    "x_train, x_test, y_train, y_test = load_data(test_size=0.25)\n",
    "print(f'Features extracted: {x_train.shape[1]}')\n",
    "\n",
    "# Initializing the MLPclassifier\n",
    "model = MLPClassifier(alpha=0.01, batch_size=256, epsilon=1e-08, hidden_layer_sizes=(300,), learning_rate='adaptive', max_iter=500)\n"
   ]
  },
  {
   "cell_type": "code",
   "execution_count": null,
   "metadata": {},
   "outputs": [],
   "source": []
  }
 ]
}